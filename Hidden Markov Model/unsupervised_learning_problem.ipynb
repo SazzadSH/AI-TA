{
  "cells": [
    {
      "cell_type": "markdown",
      "metadata": {
        "id": "c1aN3OUkjX7W"
      },
      "source": [
        "# **Problem #1**\n",
        "\n",
        "Write a program to determine the learning parameters of the Hidden Markov Model using a supervised learning approach considering the following dataset.\n",
        "\n",
        "States: H, L\n",
        "\n",
        "Observations: R, D\n",
        "\n",
        "Timestamps: 1, 2, 3, 4, 5, 6, 7\n",
        "\n",
        "State Sequence 1: H, L, L, H, H, L, H\n",
        "\n",
        "Observation Sequence 1: R, R, D, D, R, D, R\n",
        "\n",
        "State Sequence 2: L, L, H, H, H, L, H\n",
        "\n",
        "Observation Sequence 2: D, R, D, D, R, R, D\n",
        "\n",
        "State Sequence 3: L, H, H, H, H, L, H\n",
        "\n",
        "Observation Sequence 3: R, D, D, D, R, D, R\n",
        "\n",
        "State Sequence 4: L, L, H, H, L, H, L\n",
        "\n",
        "Observation Sequence 4: R, R, R, D, D, R, D\n",
        "\n",
        "State Sequence 5: H, H, H, L, L, H, L\n",
        "\n",
        "Observation Sequence 5: D, R, D, D, D, D, R\n"
      ]
    },
    {
      "cell_type": "markdown",
      "metadata": {
        "id": "QKJFqGvynkva"
      },
      "source": [
        "# **Solution**"
      ]
    },
    {
      "cell_type": "code",
      "execution_count": null,
      "metadata": {
        "id": "0TX0l_NJjD5F"
      },
      "outputs": [],
      "source": [
        "from collections import defaultdict"
      ]
    },
    {
      "cell_type": "code",
      "execution_count": null,
      "metadata": {
        "id": "TtVr_whKjsh2"
      },
      "outputs": [],
      "source": [
        "# Define states and observations\n",
        "states = ['H', 'L']\n",
        "observations = ['R', 'D']"
      ]
    },
    {
      "cell_type": "code",
      "execution_count": null,
      "metadata": {
        "id": "rk620sBMjurO"
      },
      "outputs": [],
      "source": [
        "# Dataset: List of tuples (state_sequence, observation_sequence)\n",
        "dataset = [\n",
        "    (['H', 'L', 'L', 'H', 'H', 'L', 'H'], ['R', 'R', 'D', 'D', 'R', 'D', 'R']),\n",
        "    (['L', 'L', 'H', 'H', 'H', 'L', 'H'], ['D', 'R', 'D', 'D', 'R', 'R', 'D']),\n",
        "    (['L', 'H', 'H', 'H', 'H', 'L', 'H'], ['R', 'D', 'D', 'D', 'R', 'D', 'R']),\n",
        "    (['L', 'L', 'H', 'H', 'L', 'H', 'L'], ['R', 'R', 'R', 'D', 'D', 'R', 'D']),\n",
        "    (['H', 'H', 'H', 'L', 'L', 'H', 'L'], ['D', 'R', 'D', 'D', 'D', 'D', 'R']),\n",
        "]"
      ]
    },
    {
      "cell_type": "code",
      "execution_count": null,
      "metadata": {
        "id": "V-1ORMdrj1e9"
      },
      "outputs": [],
      "source": [
        "# Initialize counts\n",
        "initial_state_counts = defaultdict(int)\n",
        "transition_counts = defaultdict(lambda: defaultdict(int))\n",
        "emission_counts = defaultdict(lambda: defaultdict(int))"
      ]
    },
    {
      "cell_type": "code",
      "execution_count": null,
      "metadata": {
        "id": "WL4Mu4Vrj5YO"
      },
      "outputs": [],
      "source": [
        "# Total counts for normalization\n",
        "state_counts = defaultdict(int)\n",
        "\n",
        "# Process the dataset to fill in the counts\n",
        "for state_sequence, observation_sequence in dataset:\n",
        "    # Initial state counts\n",
        "    initial_state_counts[state_sequence[0]] += 1\n",
        "    state_counts[state_sequence[0]] += 1\n",
        "\n",
        "    # Transition and emission counts\n",
        "    for i in range(1, len(state_sequence)):\n",
        "        # Transition from state i-1 to state i\n",
        "        prev_state = state_sequence[i - 1]\n",
        "        current_state = state_sequence[i]\n",
        "        transition_counts[prev_state][current_state] += 1\n",
        "\n",
        "        # Count the current state\n",
        "        state_counts[current_state] += 1\n",
        "\n",
        "    # Emission counts\n",
        "    for i in range(len(state_sequence)):\n",
        "        state = state_sequence[i]\n",
        "        observation = observation_sequence[i]\n",
        "        emission_counts[state][observation] += 1"
      ]
    },
    {
      "cell_type": "code",
      "execution_count": null,
      "metadata": {
        "id": "BzeghLtuj9Au"
      },
      "outputs": [],
      "source": [
        "# Total number of sequences (for initial state probabilities)\n",
        "total_sequences = len(dataset)\n",
        "\n",
        "# Step 1: Calculate Initial State Probabilities (pi)\n",
        "pi = {state: initial_state_counts[state] / total_sequences for state in states}\n",
        "\n",
        "# Step 2: Calculate Transition Probabilities (A)\n",
        "A = {}\n",
        "for prev_state in states:\n",
        "    A[prev_state] = {}\n",
        "    total_transitions_from_state = sum(transition_counts[prev_state].values())\n",
        "    for next_state in states:\n",
        "        if total_transitions_from_state == 0:\n",
        "            A[prev_state][next_state] = 0\n",
        "        else:\n",
        "            A[prev_state][next_state] = transition_counts[prev_state][next_state] / total_transitions_from_state"
      ]
    },
    {
      "cell_type": "code",
      "execution_count": null,
      "metadata": {
        "id": "RcyDuO-3kG92"
      },
      "outputs": [],
      "source": [
        "# Step 3: Calculate Emission Probabilities (B)\n",
        "B = {}\n",
        "for state in states:\n",
        "    B[state] = {}\n",
        "    total_emissions_from_state = sum(emission_counts[state].values())\n",
        "    for observation in observations:\n",
        "        if total_emissions_from_state == 0:\n",
        "            B[state][observation] = 0\n",
        "        else:\n",
        "            B[state][observation] = emission_counts[state][observation] / total_emissions_from_state"
      ]
    },
    {
      "cell_type": "code",
      "execution_count": null,
      "metadata": {
        "colab": {
          "base_uri": "https://localhost:8080/"
        },
        "id": "029nndsmkKqm",
        "outputId": "62dd44d9-84f7-4176-f077-7aaa385d4531"
      },
      "outputs": [
        {
          "name": "stdout",
          "output_type": "stream",
          "text": [
            "Initial State Probabilities (π):\n",
            "π(H) = 0.400\n",
            "π(L) = 0.600\n",
            "\n",
            "Transition Probabilities (A):\n",
            "A(H -> H) = 0.529\n",
            "A(H -> L) = 0.471\n",
            "A(L -> H) = 0.692\n",
            "A(L -> L) = 0.308\n",
            "\n",
            "Emission Probabilities (B):\n",
            "B(H -> R) = 0.450\n",
            "B(H -> D) = 0.550\n",
            "B(L -> R) = 0.467\n",
            "B(L -> D) = 0.533\n"
          ]
        }
      ],
      "source": [
        "# Output the results\n",
        "print(\"Initial State Probabilities (pi):\")\n",
        "for state in pi:\n",
        "    print(f\"π({state}) = {pi[state]:.3f}\")\n",
        "\n",
        "print(\"\\nTransition Probabilities (A):\")\n",
        "for prev_state in A:\n",
        "    for next_state in A[prev_state]:\n",
        "        print(f\"A({prev_state} -> {next_state}) = {A[prev_state][next_state]:.3f}\")\n",
        "\n",
        "print(\"\\nEmission Probabilities (B):\")\n",
        "for state in B:\n",
        "    for observation in B[state]:\n",
        "        print(f\"B({state} -> {observation}) = {B[state][observation]:.3f}\")"
      ]
    }
  ],
  "metadata": {
    "colab": {
      "provenance": []
    },
    "kernelspec": {
      "display_name": "Python 3",
      "name": "python3"
    },
    "language_info": {
      "name": "python"
    }
  },
  "nbformat": 4,
  "nbformat_minor": 0
}
