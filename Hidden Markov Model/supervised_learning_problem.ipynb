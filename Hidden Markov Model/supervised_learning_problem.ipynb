{
  "cells": [
    {
      "cell_type": "markdown",
      "metadata": {
        "id": "REOXlQ9JmGMt"
      },
      "source": [
        "# **Problem #2**\n",
        "\n",
        "Write a program to determine learning parameters of Hidden Markov Model using unsupervised learning (Baum Welch algorithm) considering the following dataset.\n",
        "\n",
        "States: H, L\n",
        "\n",
        "Observations: R, D\n",
        "\n",
        "Timestamps: 1, 2, 3, 4, 5, 6\n",
        "\n",
        "Observation Sequence 1: R, R, D, D, R, D, R\n",
        "\n",
        "Observation Sequence 2: D, R, D, D, R, R, D\n",
        "\n",
        "Observation Sequence 3: R, D, D, D, R, D, R\n",
        "\n",
        "Observation Sequence 4: R, R, R, D, D, R, D\n",
        "\n",
        "Observation Sequence 5: D, R, D, D, D, D, R"
      ]
    },
    {
      "cell_type": "markdown",
      "metadata": {
        "id": "0CT7A51fnybv"
      },
      "source": [
        "# **Solution**"
      ]
    },
    {
      "cell_type": "code",
      "execution_count": null,
      "metadata": {
        "id": "u0h_4VpYmSmf"
      },
      "outputs": [],
      "source": [
        "import numpy as np"
      ]
    },
    {
      "cell_type": "code",
      "execution_count": null,
      "metadata": {
        "id": "yDY-gpRUmW83"
      },
      "outputs": [],
      "source": [
        "# Define states and observations\n",
        "states = ['H', 'L']\n",
        "observations = ['R', 'D']\n",
        "num_states = len(states)\n",
        "num_observations = len(observations)\n",
        "\n",
        "# Observation Sequences\n",
        "observation_sequences = [\n",
        "    ['R', 'R', 'D', 'D', 'R', 'D'],\n",
        "    ['D', 'R', 'D', 'D', 'R', 'R'],\n",
        "    ['R', 'D', 'D', 'D', 'R', 'D'],\n",
        "    ['R', 'R', 'R', 'D', 'D', 'R'],\n",
        "    ['D', 'R', 'D', 'D', 'D', 'D']\n",
        "]"
      ]
    },
    {
      "cell_type": "code",
      "execution_count": null,
      "metadata": {
        "id": "2JB9zLMOmZOE"
      },
      "outputs": [],
      "source": [
        "# Initialize parameters randomly\n",
        "np.random.seed(42)  # Set seed for reproducibility\n",
        "pi = np.random.rand(num_states)\n",
        "pi = pi / pi.sum()  # Normalize\n",
        "\n",
        "A = np.random.rand(num_states, num_states)\n",
        "A = A / A.sum(axis=1, keepdims=True)  # Normalize each row\n",
        "\n",
        "B = np.random.rand(num_states, num_observations)\n",
        "B = B / B.sum(axis=1, keepdims=True)  # Normalize each row\n",
        "\n",
        "# Observation to index mapping\n",
        "obs_map = {obs: i for i, obs in enumerate(observations)}"
      ]
    },
    {
      "cell_type": "code",
      "execution_count": null,
      "metadata": {
        "id": "Q9sF7Tg4mcTI"
      },
      "outputs": [],
      "source": [
        "# Function to calculate forward probabilities (alpha)\n",
        "def forward(observation_seq, A, B, pi):\n",
        "    T = len(observation_seq)\n",
        "    alpha = np.zeros((T, num_states))\n",
        "\n",
        "    # Initial step\n",
        "    alpha[0] = pi * B[:, obs_map[observation_seq[0]]]\n",
        "\n",
        "    # Recursive step\n",
        "    for t in range(1, T):\n",
        "        for j in range(num_states):\n",
        "            alpha[t, j] = np.sum(alpha[t-1] * A[:, j]) * B[j, obs_map[observation_seq[t]]]\n",
        "\n",
        "    return alpha"
      ]
    },
    {
      "cell_type": "code",
      "execution_count": null,
      "metadata": {
        "id": "hwIc4mvBmeK-"
      },
      "outputs": [],
      "source": [
        "# Function to calculate backward probabilities (beta)\n",
        "def backward(observation_seq, A, B):\n",
        "    T = len(observation_seq)\n",
        "    beta = np.zeros((T, num_states))\n",
        "\n",
        "    # Initial step\n",
        "    beta[-1] = 1  # All probabilities are 1 at the final step\n",
        "\n",
        "    # Recursive step\n",
        "    for t in range(T-2, -1, -1):\n",
        "        for i in range(num_states):\n",
        "            beta[t, i] = np.sum(A[i, :] * B[:, obs_map[observation_seq[t+1]]] * beta[t+1])\n",
        "\n",
        "    return beta"
      ]
    },
    {
      "cell_type": "code",
      "execution_count": null,
      "metadata": {
        "id": "xYTSXicBmgDs"
      },
      "outputs": [],
      "source": [
        "# Function to re-estimate parameters (M-step)\n",
        "def re_estimate_params(observation_sequences, A, B, pi):\n",
        "    num_sequences = len(observation_sequences)\n",
        "    T = len(observation_sequences[0])\n",
        "\n",
        "    # Initialize updated parameters\n",
        "    pi_new = np.zeros(num_states)\n",
        "    A_new = np.zeros_like(A)\n",
        "    B_new = np.zeros_like(B)\n",
        "\n",
        "    # Accumulators for pi, A, and B\n",
        "    gamma_sum = np.zeros(num_states)\n",
        "    xi_sum = np.zeros((num_states, num_states))\n",
        "    gamma_obs_sum = np.zeros((num_states, num_observations))\n",
        "\n",
        "    for observation_seq in observation_sequences:\n",
        "        alpha = forward(observation_seq, A, B, pi)\n",
        "        beta = backward(observation_seq, A, B)\n",
        "\n",
        "        # Gamma: Probability of being in state i at time t\n",
        "        gamma = (alpha * beta) / np.sum(alpha * beta, axis=1, keepdims=True)\n",
        "\n",
        "        # Xi: Probability of transitioning from state i to j at time t\n",
        "        xi = np.zeros((T-1, num_states, num_states))\n",
        "        for t in range(T-1):\n",
        "            denom = np.sum(alpha[t, :] @ A * B[:, obs_map[observation_seq[t+1]]] * beta[t+1, :])\n",
        "            for i in range(num_states):\n",
        "                xi[t, i, :] = alpha[t, i] * A[i, :] * B[:, obs_map[observation_seq[t+1]]] * beta[t+1, :] / denom\n",
        "\n",
        "        # Accumulate pi_new\n",
        "        pi_new += gamma[0]\n",
        "\n",
        "        # Accumulate A_new\n",
        "        xi_sum += np.sum(xi, axis=0)\n",
        "\n",
        "        # Accumulate B_new\n",
        "        for t in range(T):\n",
        "            gamma_obs_sum[:, obs_map[observation_seq[t]]] += gamma[t]\n",
        "        gamma_sum += np.sum(gamma, axis=0)\n",
        "\n",
        "    # Normalize new estimates\n",
        "    pi_new /= num_sequences\n",
        "    A_new = xi_sum / np.sum(xi_sum, axis=1, keepdims=True)\n",
        "    B_new = gamma_obs_sum / gamma_sum[:, None]\n",
        "\n",
        "    return pi_new, A_new, B_new"
      ]
    },
    {
      "cell_type": "code",
      "execution_count": null,
      "metadata": {
        "id": "EVLqxCqnmlIi"
      },
      "outputs": [],
      "source": [
        "# Baum-Welch Algorithm\n",
        "def baum_welch(observation_sequences, A, B, pi, max_iter=100, tol=1e-4):\n",
        "    for iteration in range(max_iter):\n",
        "        pi_new, A_new, B_new = re_estimate_params(observation_sequences, A, B, pi)\n",
        "\n",
        "        # Check for convergence\n",
        "        if np.max(np.abs(A_new - A)) < tol and np.max(np.abs(B_new - B)) < tol and np.max(np.abs(pi_new - pi)) < tol:\n",
        "            print(f\"Converged after {iteration + 1} iterations.\")\n",
        "            break\n",
        "\n",
        "        A, B, pi = A_new, B_new, pi_new\n",
        "\n",
        "    return pi, A, B"
      ]
    },
    {
      "cell_type": "code",
      "execution_count": null,
      "metadata": {
        "colab": {
          "base_uri": "https://localhost:8080/"
        },
        "id": "uXnWgDm4mna4",
        "outputId": "5b84cfe0-7817-467b-d74f-726a92bfd3b0"
      },
      "outputs": [
        {
          "name": "stdout",
          "output_type": "stream",
          "text": [
            "Final Initial State Probabilities (π):\n",
            "π(H) = 0.000\n",
            "π(L) = 1.000\n",
            "\n",
            "Final Transition Probabilities (A):\n",
            "A(H -> H) = 0.985\n",
            "A(H -> L) = 0.015\n",
            "A(L -> H) = 0.593\n",
            "A(L -> L) = 0.407\n",
            "\n",
            "Final Emission Probabilities (B):\n",
            "B(H -> R) = 0.341\n",
            "B(H -> D) = 0.659\n",
            "B(L -> R) = 0.658\n",
            "B(L -> D) = 0.342\n"
          ]
        }
      ],
      "source": [
        "pi_final, A_final, B_final = baum_welch(observation_sequences, A, B, pi)\n",
        "\n",
        "# Output the results\n",
        "print(\"Final Initial State Probabilities (π):\")\n",
        "for i, state in enumerate(states):\n",
        "    print(f\"π({state}) = {pi_final[i]:.3f}\")\n",
        "\n",
        "print(\"\\nFinal Transition Probabilities (A):\")\n",
        "for i, state_from in enumerate(states):\n",
        "    for j, state_to in enumerate(states):\n",
        "        print(f\"A({state_from} -> {state_to}) = {A_final[i, j]:.3f}\")\n",
        "\n",
        "print(\"\\nFinal Emission Probabilities (B):\")\n",
        "for i, state in enumerate(states):\n",
        "    for j, obs in enumerate(observations):\n",
        "        print(f\"B({state} -> {obs}) = {B_final[i, j]:.3f}\")"
      ]
    }
  ],
  "metadata": {
    "colab": {
      "provenance": []
    },
    "kernelspec": {
      "display_name": "Python 3",
      "name": "python3"
    },
    "language_info": {
      "name": "python"
    }
  },
  "nbformat": 4,
  "nbformat_minor": 0
}
